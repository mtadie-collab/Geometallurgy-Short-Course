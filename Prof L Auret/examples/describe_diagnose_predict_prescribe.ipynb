{
 "cells": [
  {
   "cell_type": "markdown",
   "metadata": {},
   "source": [
    "# Describe, diagnose, predict and prescribe overview\n",
    "## Purpose\n",
    "Demonstrate different analytic types on a simple system:\n",
    "- Descriptive analytics\n",
    "- Diagnostic analytics\n",
    "- Predictive analytics\n",
    "- Prescriptive analytics\n",
    "## System\n",
    "- d is a stochastic, autocorrelated disturbance\n",
    "- u is a manipulated input\n",
    "- y is a dependent KPI\n"
   ]
  },
  {
   "cell_type": "code",
   "execution_count": null,
   "metadata": {},
   "outputs": [],
   "source": [
    "# Import packages\n",
    "import numpy as np\n",
    "import pandas as pd\n",
    "import matplotlib.pyplot as plt\n",
    "from sklearn.linear_model import LinearRegression\n",
    "from sklearn.neighbors import KNeighborsRegressor\n",
    "from sklearn.inspection import permutation_importance\n",
    "from sklearn.metrics import r2_score, mean_absolute_error\n",
    "from scipy.optimize import minimize"
   ]
  },
  {
   "cell_type": "code",
   "execution_count": null,
   "metadata": {},
   "outputs": [],
   "source": [
    "# Import data\n",
    "data_url = \"https://drive.google.com/uc?id=1fUxXrOrEX2m2UpHra2_xMhDOwOCG-8hw&export=download\"\n",
    "df = pd.read_csv(data_url)\n",
    "df"
   ]
  },
  {
   "cell_type": "markdown",
   "metadata": {},
   "source": [
    "## Descriptive analytics\n",
    "- Descriptive statistics\n",
    "- Statistical visualization"
   ]
  },
  {
   "cell_type": "code",
   "execution_count": null,
   "metadata": {},
   "outputs": [],
   "source": [
    "# Descriptive statistics\n",
    "df.describe().T"
   ]
  },
  {
   "cell_type": "code",
   "execution_count": null,
   "metadata": {},
   "outputs": [],
   "source": [
    "# Statistical visualization\n",
    "# Time series\n",
    "axx = df.plot(marker='.',ls='none',alpha=0.5,subplots=True)\n",
    "axx[2].axhline(1.5,color='red',label='Product quality target')\n",
    "axx[2].legend()"
   ]
  },
  {
   "cell_type": "code",
   "execution_count": null,
   "metadata": {},
   "outputs": [],
   "source": [
    "# Statistical visualization\n",
    "# Scatter plot\n",
    "ax = df.plot.scatter(x='u',y='y',alpha=0.5)\n",
    "ax.axhline(1.5,color='red',label='Product quality target')\n",
    "ax.legend()\n",
    "fraction_spec = (df['y']<1.5).sum()/len(df['y'])\n",
    "ax.set_title(f'Fraction of samples meeting product quality target: {fraction_spec:0.2f}')"
   ]
  },
  {
   "cell_type": "code",
   "execution_count": null,
   "metadata": {},
   "outputs": [],
   "source": [
    "# Statistical visualization\n",
    "# Box plot\n",
    "df.boxplot(column='y')"
   ]
  },
  {
   "cell_type": "markdown",
   "metadata": {},
   "source": [
    "## Diagnostic analytics: Model-based"
   ]
  },
  {
   "cell_type": "code",
   "execution_count": null,
   "metadata": {},
   "outputs": [],
   "source": [
    "# Modelling: Train models\n",
    "X = df[['u','d']].copy()\n",
    "Y = df['y'].copy()\n",
    "lm = LinearRegression()\n",
    "lm.fit(X.values,Y.values)\n",
    "Ylm_hat = lm.predict(X.values)\n",
    "knn = KNeighborsRegressor(n_neighbors=20)\n",
    "knn.fit(X.values,Y.values)\n",
    "Yknn_hat = knn.predict(X.values)"
   ]
  },
  {
   "cell_type": "code",
   "execution_count": null,
   "metadata": {},
   "outputs": [],
   "source": [
    "# Modelling: Performance (on training data)\n",
    "r2_lm = r2_score(Y.values,Ylm_hat)\n",
    "mae_lm = mean_absolute_error(Y.values,Ylm_hat)\n",
    "r2_knn = r2_score(Y.values,Yknn_hat)\n",
    "mae_knn = mean_absolute_error(Y.values,Yknn_hat)\n",
    "print(f'Linear regression: R2={r2_lm:0.2f}, MAE={mae_lm:0.2f}')\n",
    "print(f'KNN regression: R2={r2_knn:0.2f}, MAE={mae_knn:0.2f}')\n"
   ]
  },
  {
   "cell_type": "markdown",
   "metadata": {},
   "source": [
    "## Diagnostic analytics: Linear models\n",
    "- Regression coefficients\n",
    "- Linear effects plot"
   ]
  },
  {
   "cell_type": "code",
   "execution_count": null,
   "metadata": {},
   "outputs": [],
   "source": [
    "# Regression coefficients\n",
    "print(f'Linear model: Intercept {lm.intercept_:0.2f}')\n",
    "lm_coef = pd.Series(data=lm.coef_,index=['u','d'])\n",
    "lm_coef.plot.bar()\n",
    "plt.title('Linear model: Coefficients')"
   ]
  },
  {
   "cell_type": "code",
   "execution_count": null,
   "metadata": {},
   "outputs": [],
   "source": [
    "# Linear effects plot\n",
    "ugrid = np.linspace(df['u'].min(),df['u'].max(),10)\n",
    "Nu = len(ugrid)\n",
    "dgrid = np.linspace(df['d'].min(),df['d'].max(),10)\n",
    "Nd = len(dgrid)\n",
    "fig, ax = plt.subplots()\n",
    "ax.set_prop_cycle('color',[plt.cm.jet(i) for i in np.linspace(0, 1, Nd)])\n",
    "for d_current in dgrid:\n",
    "    X_current = np.stack((ugrid,[d_current]*Nu),axis=1)\n",
    "    ax.plot(ugrid,lm.predict(X_current),label='d = ' + str(round(d_current,2)))\n",
    "ax.legend()\n",
    "ax.set_xlabel('u')\n",
    "ax.set_ylabel(r'$\\hat{y}$')\n",
    "ax.set_title('Linear regression: Effects plot')"
   ]
  },
  {
   "cell_type": "markdown",
   "metadata": {},
   "source": [
    "## Diagnostic analytics: Nonlinear models\n",
    "- Variable importance\n",
    "- Nonlinear effects plot"
   ]
  },
  {
   "cell_type": "code",
   "execution_count": null,
   "metadata": {},
   "outputs": [],
   "source": [
    "# Variable importance\n",
    "vi = permutation_importance(knn,X.values,Y.values)\n",
    "knn_vi = pd.Series(data=vi.importances_mean,index=['u','d'])\n",
    "knn_vi.plot.bar()\n",
    "plt.title('Nonlinear model: Variable importance')"
   ]
  },
  {
   "cell_type": "code",
   "execution_count": null,
   "metadata": {},
   "outputs": [],
   "source": [
    "# Nonlinear effects plot\n",
    "ugrid = np.linspace(df['u'].min(),df['u'].max(),10)\n",
    "Nu = len(ugrid)\n",
    "dgrid = np.linspace(df['d'].min(),df['d'].max(),10)\n",
    "Nd = len(dgrid)\n",
    "fig, ax = plt.subplots()\n",
    "ax.set_prop_cycle('color',[plt.cm.jet(i) for i in np.linspace(0, 1, Nd)])\n",
    "for d_current in dgrid:\n",
    "    X_current = np.stack((ugrid,[d_current]*Nu),axis=1)\n",
    "    ax.plot(ugrid,knn.predict(X_current),label='d = ' + str(round(d_current,2)))\n",
    "ax.legend()\n",
    "ax.set_xlabel('u')\n",
    "ax.set_ylabel(r'$\\hat{y}$')\n",
    "ax.set_title('Nonlinear regression: Effects plot')"
   ]
  },
  {
   "cell_type": "markdown",
   "metadata": {},
   "source": [
    "## Predictive analytics\n",
    "- Future predictions for defined inputs (u and d)"
   ]
  },
  {
   "cell_type": "code",
   "execution_count": null,
   "metadata": {},
   "outputs": [],
   "source": [
    "# Create future expectation of u and d\n",
    "unext = np.linspace(-10,10,100)\n",
    "dnext = np.zeros_like(unext)\n",
    "X_next = np.stack((unext,dnext),axis=1)\n",
    "# Create future predictions: Linear model\n",
    "ypred_lm = lm.predict(X_next)\n",
    "ypred_knn = knn.predict(X_next)\n",
    "fig, axx = plt.subplots(3,1)\n",
    "axx[0].plot(unext,'k.',label='Future u')\n",
    "axx[0].legend()\n",
    "axx[1].plot(dnext,'k.',label='Future d')\n",
    "axx[1].legend()\n",
    "axx[2].plot(ypred_lm,'b.',label='Linear model predictions')\n",
    "axx[2].plot(ypred_knn,'g.',label='Nonlinear model predictions')\n",
    "axx[2].legend()\n"
   ]
  },
  {
   "cell_type": "markdown",
   "metadata": {},
   "source": [
    "# Prescriptive analytics\n",
    "- Best u for fixed d"
   ]
  },
  {
   "cell_type": "code",
   "execution_count": null,
   "metadata": {},
   "outputs": [],
   "source": [
    "# Fixed d \n",
    "dfixed = -3"
   ]
  },
  {
   "cell_type": "code",
   "execution_count": null,
   "metadata": {},
   "outputs": [],
   "source": [
    "# Optimization objective function\n",
    "def objective(u_val, d_val, model):\n",
    "    X = np.vstack((u_val,d_val)).T\n",
    "    y_pred = model.predict(X)\n",
    "    return y_pred"
   ]
  },
  {
   "cell_type": "code",
   "execution_count": null,
   "metadata": {},
   "outputs": [],
   "source": [
    "# Optimization bounds\n",
    "ubounds = [(-10,10)]\n",
    "u0 = 5\n",
    "result = minimize(objective,u0,args=(dfixed,knn),method='Nelder-Mead',bounds=ubounds)\n",
    "ubest = result.x[0]\n",
    "print(f'Best value for u, given d: {ubest:0.2f}')"
   ]
  }
 ],
 "metadata": {
  "kernelspec": {
   "display_name": "rbm_dape",
   "language": "python",
   "name": "python3"
  },
  "language_info": {
   "codemirror_mode": {
    "name": "ipython",
    "version": 3
   },
   "file_extension": ".py",
   "mimetype": "text/x-python",
   "name": "python",
   "nbconvert_exporter": "python",
   "pygments_lexer": "ipython3",
   "version": "3.13.2"
  },
  "orig_nbformat": 4
 },
 "nbformat": 4,
 "nbformat_minor": 2
}
