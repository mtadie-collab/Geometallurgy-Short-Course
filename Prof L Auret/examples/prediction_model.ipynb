{
 "cells": [
  {
   "cell_type": "code",
   "execution_count": null,
   "id": "b86844d3",
   "metadata": {},
   "outputs": [],
   "source": [
    "# Import packages\n",
    "import pandas as pd\n",
    "import numpy as np\n",
    "import matplotlib.pyplot as plt\n",
    "import seaborn as sns\n",
    "from sklearn.preprocessing import StandardScaler\n",
    "from sklearn.model_selection import train_test_split, cross_val_score\n",
    "from sklearn.linear_model import LinearRegression\n",
    "from sklearn.tree import DecisionTreeRegressor\n",
    "from sklearn.ensemble import GradientBoostingRegressor\n",
    "from sklearn.metrics import r2_score"
   ]
  },
  {
   "cell_type": "code",
   "execution_count": null,
   "id": "5a5dd543",
   "metadata": {},
   "outputs": [],
   "source": [
    "# Data ingest\n",
    "data_url = \"https://drive.google.com/uc?id=1_jYVXj7mt8Zzpjn8WGI111G-kWRTbfjU\"\n",
    "df = pd.read_csv(data_url,index_col='date',parse_dates=['date'])\n",
    "df.info()\n"
   ]
  },
  {
   "cell_type": "code",
   "execution_count": null,
   "id": "2a229141",
   "metadata": {},
   "outputs": [],
   "source": [
    "# Downsampling\n",
    "df = df.resample('8h').median()\n",
    "df = df.dropna()"
   ]
  },
  {
   "cell_type": "code",
   "execution_count": null,
   "id": "0bd7b2c5",
   "metadata": {},
   "outputs": [],
   "source": [
    "# Data statistics\n",
    "df.describe().T"
   ]
  },
  {
   "cell_type": "code",
   "execution_count": null,
   "id": "e53652b3",
   "metadata": {},
   "outputs": [],
   "source": [
    "# Plots\n",
    "tags = ['plant.feed.silica.comp','plant.filters.product.silica.comp']\n",
    "df[tags].plot(subplots=True,figsize=(16,4))"
   ]
  },
  {
   "cell_type": "code",
   "execution_count": null,
   "id": "0bfa2c8d",
   "metadata": {},
   "outputs": [],
   "source": [
    "# Feed\n",
    "feed_variables = [name for name in df.columns if 'feed' in name or 'sump01' in name]\n",
    "sns.pairplot(data=df,vars=feed_variables,corner=True,kind='hist',diag_kind='kde')"
   ]
  },
  {
   "cell_type": "code",
   "execution_count": null,
   "id": "f5869c90",
   "metadata": {},
   "outputs": [],
   "source": [
    "# Feed and product compositions\n",
    "assay_variables = [name for name in df.columns if 'iron' in name or 'silica' in name]\n",
    "sns.pairplot(data=df,vars=assay_variables,corner=True,kind='hist',diag_kind='kde')"
   ]
  },
  {
   "cell_type": "code",
   "execution_count": null,
   "id": "6ece32c4",
   "metadata": {},
   "outputs": [],
   "source": [
    "# Correlation matrix\n",
    "corr = df.corr()\n",
    "sns.heatmap(corr,cmap='bwr',vmin=-1,vmax=+1)"
   ]
  },
  {
   "cell_type": "code",
   "execution_count": null,
   "id": "e8a9c39a",
   "metadata": {},
   "outputs": [],
   "source": [
    "# Data partitioning\n",
    "# Input variables\n",
    "X_names = df.columns\n",
    "X_names = X_names.drop('plant.filters.product.iron.comp')\n",
    "X_names = X_names.drop('plant.filters.product.silica.comp')\n",
    "print(X_names)\n",
    "# Output variables\n",
    "Y_name = 'plant.filters.product.silica.comp'\n",
    "# Data frames\n",
    "X = df[X_names].copy()\n",
    "Y = df[Y_name].rolling('24h').median().copy()\n",
    "# Training (and validation) and testing data\n",
    "X_train, X_test, Y_train, Y_test = train_test_split(X,Y,test_size=0.2,shuffle=True)"
   ]
  },
  {
   "cell_type": "markdown",
   "id": "8c9597ec",
   "metadata": {},
   "source": [
    "# ⚠️⚠️⚠️ WARNING ⚠️⚠️⚠️\n",
    "Shuffling samples for training and testing data sets **is not recommended** for building predictive models from time series data, given data leakage and process plant time variance! Shuffling is typically the default in many machine learning packages, please ensure to explicitly check and correct. `shuffle=True` is used here to demonstrate the disparity in results in comparison to `shuffle=False`."
   ]
  },
  {
   "cell_type": "code",
   "execution_count": null,
   "id": "be554403",
   "metadata": {},
   "outputs": [],
   "source": [
    "# Understand data partitioning\n",
    "fig, ax = plt.subplots(figsize=(12,4))\n",
    "ax.plot(Y_train,'b.',label='Training data')\n",
    "ax.plot(Y_test,'r.',label='Testing data')\n",
    "ax.legend()"
   ]
  },
  {
   "cell_type": "code",
   "execution_count": null,
   "id": "e648888f",
   "metadata": {},
   "outputs": [],
   "source": [
    "# Preprocessing: Scaling\n",
    "scaler = StandardScaler()\n",
    "scaler.fit(X_train)\n",
    "X_train_scaled = scaler.transform(X_train)"
   ]
  },
  {
   "cell_type": "code",
   "execution_count": null,
   "id": "5b18b05f",
   "metadata": {},
   "outputs": [],
   "source": [
    "# Linear model\n",
    "linear_model = LinearRegression()"
   ]
  },
  {
   "cell_type": "code",
   "execution_count": null,
   "id": "b66a3612",
   "metadata": {},
   "outputs": [],
   "source": [
    "# Tree model\n",
    "tree_model = DecisionTreeRegressor(min_samples_leaf=50)"
   ]
  },
  {
   "cell_type": "code",
   "execution_count": null,
   "id": "3d561b7c",
   "metadata": {},
   "outputs": [],
   "source": [
    "# Boosted ensemble\n",
    "boost_model = GradientBoostingRegressor(n_estimators=50)"
   ]
  },
  {
   "cell_type": "code",
   "execution_count": null,
   "id": "70c97382",
   "metadata": {},
   "outputs": [],
   "source": [
    "# Cross-validation\n",
    "linear_model_cv = cross_val_score(linear_model,X_train_scaled,Y_train,scoring='r2',cv=5)\n",
    "tree_model_cv = cross_val_score(tree_model,X_train_scaled,Y_train,scoring='r2',cv=5)\n",
    "boost_model_cv = cross_val_score(boost_model,X_train_scaled,Y_train,scoring='r2',cv=5)"
   ]
  },
  {
   "cell_type": "code",
   "execution_count": null,
   "id": "c2278cc7",
   "metadata": {},
   "outputs": [],
   "source": [
    "# Model selection\n",
    "print(f'Linear model average R squared: {linear_model_cv.mean():0.2f}')\n",
    "print(f'Tree model average R squared: {tree_model_cv.mean():0.2f}')\n",
    "print(f'Boost model average R squared: {boost_model_cv.mean():0.2f}')"
   ]
  },
  {
   "cell_type": "code",
   "execution_count": null,
   "id": "5fc64411",
   "metadata": {},
   "outputs": [],
   "source": [
    "# Fit best model on training and validation data\n",
    "boost_model.fit(X_train_scaled,Y_train)"
   ]
  },
  {
   "cell_type": "code",
   "execution_count": null,
   "id": "5899237a",
   "metadata": {},
   "outputs": [],
   "source": [
    "# Model performance on test data\n",
    "X_test_scaled = scaler.transform(X_test)\n",
    "Y_test_pred = boost_model.predict(X_test_scaled)\n",
    "r2_test = r2_score(y_true=Y_test,y_pred=Y_test_pred)\n",
    "print(f'Boost model test R squared: {r2_test:0.2f}')"
   ]
  },
  {
   "cell_type": "code",
   "execution_count": null,
   "id": "db268998",
   "metadata": {},
   "outputs": [],
   "source": [
    "# Model performance on all data\n",
    "df['predicted.plant.filters.product.silica.comp'] = boost_model.predict(scaler.transform(df[X_names]))\n",
    "df['Train/test data'] = 'Train'\n",
    "df.loc[X_test.index,'Train/test data'] = 'Test'\n",
    "print(f'Boost model average R squared: {r2_score(df['plant.filters.product.silica.comp'],df['predicted.plant.filters.product.silica.comp']):0.2f}')"
   ]
  },
  {
   "cell_type": "code",
   "execution_count": null,
   "id": "f5a8a838",
   "metadata": {},
   "outputs": [],
   "source": [
    "# Time series plot of predictions\n",
    "fig, ax = plt.subplots(figsize=(12,4))\n",
    "ax.plot(df.loc[df['Train/test data']=='Train','plant.filters.product.silica.comp'],'k.-',label='Training data, true value',alpha=0.5)\n",
    "ax.plot(df.loc[df['Train/test data']=='Test','plant.filters.product.silica.comp'],'k*-',label='Testing data, true value',alpha=0.5)\n",
    "ax.plot(df.loc[df['Train/test data']=='Train','predicted.plant.filters.product.silica.comp'],'.-',color='darkblue',label='Training data, predicted value',alpha=0.5)\n",
    "ax.plot(df.loc[df['Train/test data']=='Test','predicted.plant.filters.product.silica.comp'],'*-',color='darkred',label='Testing data, predicted value',alpha=0.5)\n",
    "ax.legend(loc='upper left',bbox_to_anchor=(1,1))\n",
    "ax.set_title('Time series plot of predictions')\n",
    "ax.set_xlabel('Time')\n",
    "ax.set_ylabel('Output variable')"
   ]
  },
  {
   "cell_type": "code",
   "execution_count": null,
   "id": "45adfcb0",
   "metadata": {},
   "outputs": [],
   "source": [
    "# Parity plot\n",
    "fig, ax = plt.subplots(figsize=(6,6))\n",
    "ax.plot(df.loc[df['Train/test data']=='Train','plant.filters.product.silica.comp'],\n",
    "        df.loc[df['Train/test data']=='Train','predicted.plant.filters.product.silica.comp'],\n",
    "        '.',color='darkblue',label='Training data',alpha=0.5)\n",
    "ax.plot(df.loc[df['Train/test data']=='Test','plant.filters.product.silica.comp'],\n",
    "        df.loc[df['Train/test data']=='Test','predicted.plant.filters.product.silica.comp'],\n",
    "        '*',color='darkred',label='Testing data',alpha=0.5)\n",
    "min_y = df['plant.filters.product.silica.comp'].min()\n",
    "max_y = df['plant.filters.product.silica.comp'].max()\n",
    "ax.plot([min_y, max_y],[min_y, max_y],color='k',label='Parity line')\n",
    "ax.legend(loc='upper left',bbox_to_anchor=(1,1))\n",
    "ax.set_title('Parity plot')\n",
    "ax.set_xlabel('True values')\n",
    "ax.set_ylabel('Predicted values')"
   ]
  },
  {
   "cell_type": "markdown",
   "id": "9d90351b",
   "metadata": {},
   "source": [
    "# 🎯 Practice Points\n",
    "- Based on the correlation matrix information, isualize different variables in time series plots and pair plots.\n",
    "- Change the downsampling period, and observe the effect on the model result. What are the advantages and disadvantages of small and large downsampling perods?\n",
    "- Limit the input data X to fewer variables, e.g., by only including one representitive variable from a correlated group. See how the reduced input set affects the model performance.\n",
    "- Vary the training fraction, and observe the effect on the training and testing prediction performance."
   ]
  }
 ],
 "metadata": {
  "kernelspec": {
   "display_name": "rbm_dape",
   "language": "python",
   "name": "python3"
  },
  "language_info": {
   "codemirror_mode": {
    "name": "ipython",
    "version": 3
   },
   "file_extension": ".py",
   "mimetype": "text/x-python",
   "name": "python",
   "nbconvert_exporter": "python",
   "pygments_lexer": "ipython3",
   "version": "3.13.2"
  }
 },
 "nbformat": 4,
 "nbformat_minor": 5
}
