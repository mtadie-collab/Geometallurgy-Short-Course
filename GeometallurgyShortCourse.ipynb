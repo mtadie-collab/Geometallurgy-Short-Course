{
  "nbformat": 4,
  "nbformat_minor": 0,
  "metadata": {
    "colab": {
      "provenance": []
    },
    "kernelspec": {
      "name": "python3",
      "display_name": "Python 3"
    },
    "language_info": {
      "name": "python"
    }
  },
  "cells": [
    {
      "cell_type": "code",
      "execution_count": 1,
      "metadata": {
        "colab": {
          "base_uri": "https://localhost:8080/"
        },
        "id": "Gpepf42O_izj",
        "outputId": "0d7ad776-6b1c-4f36-8598-c2d572fcc933"
      },
      "outputs": [
        {
          "output_type": "stream",
          "name": "stdout",
          "text": [
            "Hello, Github + Colab!\n"
          ]
        }
      ],
      "source": [
        "print(\"Hello, Github + Colab!\")"
      ]
    },
    {
      "cell_type": "code",
      "source": [],
      "metadata": {
        "id": "R4byuMqjADRF"
      },
      "execution_count": null,
      "outputs": []
    }
  ]
}